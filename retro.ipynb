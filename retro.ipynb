{
 "metadata": {
  "language_info": {
   "codemirror_mode": {
    "name": "ipython",
    "version": 3
   },
   "file_extension": ".py",
   "mimetype": "text/x-python",
   "name": "python",
   "nbconvert_exporter": "python",
   "pygments_lexer": "ipython3",
   "version": "3.9.1"
  },
  "orig_nbformat": 2,
  "kernelspec": {
   "name": "python391jvsc74a57bd023300995598eec4bcf6bd89cf02d1c3675e8b2616661418dbbf5580aa901878d",
   "display_name": "Python 3.9.1 64-bit"
  },
  "metadata": {
   "interpreter": {
    "hash": "23300995598eec4bcf6bd89cf02d1c3675e8b2616661418dbbf5580aa901878d"
   }
  }
 },
 "nbformat": 4,
 "nbformat_minor": 2,
 "cells": [
  {
   "cell_type": "code",
   "execution_count": 5,
   "metadata": {},
   "outputs": [],
   "source": [
    "import mysql.connector\n",
    "import pandas as pd \n",
    "\n",
    "mydb = mysql.connector.connect(\n",
    "    host = 'localhost',\n",
    "    user = 'root',\n",
    "    passwd = 'root',\n",
    "    database = 'retrowheels'\n",
    ")"
   ]
  },
  {
   "cell_type": "code",
   "execution_count": 6,
   "metadata": {},
   "outputs": [
    {
     "output_type": "stream",
     "name": "stdout",
     "text": [
      "            city  employeeNumber\n0  San Francisco               6\n1          Paris               5\n2         Sydney               4\n3         Boston               2\n4            NYC               2\n5          Tokyo               2\n6         London               2\n"
     ]
    }
   ],
   "source": [
    "cursor = mydb.cursor()\n",
    "\n",
    "query = 'select city, count(employeeNumber) as employeeNumber from offices, employees where employees.officeCode=offices.officeCode group by city order by employeeNumber desc'\n",
    "\n",
    "cursor.execute(query)\n",
    "\n",
    "result = cursor.fetchall()\n",
    "\n",
    "df = pd.DataFrame(result, columns = cursor.column_names)\n",
    "print(df)"
   ]
  },
  {
   "cell_type": "code",
   "execution_count": 7,
   "metadata": {},
   "outputs": [
    {
     "output_type": "stream",
     "name": "stdout",
     "text": [
      "   ProductLineNum  ProductNumber\n0               7            110\n"
     ]
    }
   ],
   "source": [
    "cursor = mydb.cursor()\n",
    "\n",
    "query = 'select (select count(*) from productlines) as ProductLineNum, (select count(*) from products) as ProductNumber;'\n",
    "\n",
    "cursor.execute(query)\n",
    "\n",
    "result = cursor.fetchall()\n",
    "\n",
    "df = pd.DataFrame(result, columns = cursor.column_names)\n",
    "print(df)"
   ]
  },
  {
   "cell_type": "code",
   "execution_count": 14,
   "metadata": {},
   "outputs": [
    {
     "output_type": "stream",
     "name": "stdout",
     "text": [
      "  productCode                              productName   productLine  \\\n0    S18_3232              1992 Ferrari 360 Spider red  Classic Cars   \n1    S18_1342                     1937 Lincoln Berline  Vintage Cars   \n2   S700_4002                American Airlines: MD-11S        Planes   \n3    S18_3856  1941 Chevrolet Special Deluxe Cabriolet  Vintage Cars   \n4    S50_1341             1930 Buick Marquette Phaeton  Vintage Cars   \n\n  orderQuantity  \n0          1808  \n1          1111  \n2          1085  \n3          1076  \n4          1074  \n"
     ]
    }
   ],
   "source": [
    "cursor = mydb.cursor()\n",
    "\n",
    "query = 'SELECT products.productCode, products.productName, products.productLine, sum(quantityOrdered) as orderQuantity FROM products, orderdetails where products.productCode=orderdetails.productCode GROUP BY productCode ORDER BY orderQuantity desc limit 5'\n",
    "\n",
    "cursor.execute(query)\n",
    "\n",
    "result = cursor.fetchall()\n",
    "\n",
    "df = pd.DataFrame(result, columns = cursor.column_names)\n",
    "print(df)"
   ]
  },
  {
   "cell_type": "code",
   "execution_count": null,
   "metadata": {},
   "outputs": [],
   "source": []
  }
 ]
}